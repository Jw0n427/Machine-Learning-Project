{
 "cells": [
  {
   "cell_type": "markdown",
   "id": "e0273153",
   "metadata": {},
   "source": [
    "# 0. 필요 데이터 설치"
   ]
  },
  {
   "cell_type": "code",
   "execution_count": 8,
   "id": "15a5531d",
   "metadata": {},
   "outputs": [],
   "source": [
    "import requests\n",
    "import pandas as pd\n",
    "from io import StringIO\n",
    "from datetime import datetime, timedelta\n",
    "from imblearn.over_sampling import SMOTE\n",
    "from sklearn.model_selection import train_test_split, GridSearchCV\n",
    "from xgboost import XGBClassifier\n",
    "from sklearn.metrics import accuracy_score, classification_report, confusion_matrix"
   ]
  },
  {
   "cell_type": "markdown",
   "id": "d6d1fade",
   "metadata": {},
   "source": [
    "# 1. 기상청 API 데이터 수집"
   ]
  },
  {
   "cell_type": "code",
   "execution_count": null,
   "id": "1f15090c",
   "metadata": {},
   "outputs": [
    {
     "name": "stdout",
     "output_type": "stream",
     "text": [
      "기상청 데이터 수집 완료, 샘플 데이터:\n",
      "     date_dt  TA_AVG  HM_AVG  WS_AVG\n",
      "0 2022-01-01    -3.7     2.1     1.5\n",
      "1 2022-01-02    -0.9     3.3     2.3\n",
      "2 2022-01-03    -2.3     3.2     1.8\n",
      "3 2022-01-04    -1.8     2.6     2.4\n",
      "4 2022-01-05    -2.8     2.4     1.7\n",
      "총 수집된 날짜 수: 1066\n"
     ]
    }
   ],
   "source": [
    "start_date = datetime(2022, 1, 1)\n",
    "end_date = datetime(2024, 12, 31)\n",
    "date_list = [(start_date + timedelta(days=i)).strftime('%Y%m%d') for i in range((end_date - start_date).days + 1)]\n",
    "\n",
    "weather_records = []\n",
    "col_names = [f'col{i}' for i in range(56)]\n",
    "url_weather = \"https://apihub.kma.go.kr/api/typ01/url/kma_sfcdd3.php\"\n",
    "\n",
    "for date in date_list:\n",
    "    params_weather = {\n",
    "        \"tm1\": date,\n",
    "        \"tm2\": date,\n",
    "        \"stn\": \"108\",\n",
    "        \"help\": \"1\",\n",
    "        \"authKey\": \"n7wd-Im8T368HfiJvO9-5Q\"  # 실제 인증키로 교체 필요\n",
    "    }\n",
    "    try:\n",
    "        response_weather = requests.get(url_weather, params=params_weather, timeout=10)\n",
    "        response_weather.encoding = 'euc-kr'\n",
    "        lines = response_weather.text.split('\\n')\n",
    "        lines = [line for line in lines if line and not line.startswith('#')]\n",
    "        if not lines:\n",
    "            continue\n",
    "        csv_data = '\\n'.join(lines)\n",
    "        df_w = pd.read_csv(StringIO(csv_data), sep=r'\\s+', header=None, names=col_names, engine='python')\n",
    "        df_w = df_w.reset_index(drop=True)\n",
    "        df_w['date'] = df_w['col0'].astype(str).str[:8]\n",
    "        df_w['date_dt'] = pd.to_datetime(df_w['date'], format='%Y%m%d', errors='coerce')\n",
    "        df_w = df_w[['date_dt', 'col16', 'col21', 'col2']]\n",
    "        df_w.columns = ['date_dt', 'TA_AVG', 'HM_AVG', 'WS_AVG']\n",
    "        weather_records.append(df_w)\n",
    "    except Exception as e:\n",
    "        continue\n",
    "\n",
    "if weather_records:\n",
    "    df_weather_all = pd.concat(weather_records, ignore_index=True)\n",
    "else:\n",
    "    df_weather_all = pd.DataFrame()\n",
    "\n",
    "print('기상청 데이터 수집 완료, 샘플 데이터:')\n",
    "print(df_weather_all.head())\n",
    "print('총 수집된 날짜 수:', df_weather_all['date_dt'].nunique())"
   ]
  },
  {
   "cell_type": "markdown",
   "id": "1fc0beb0",
   "metadata": {},
   "source": [
    "# 2. 산불위험예보 목록정보 전처리"
   ]
  },
  {
   "cell_type": "code",
   "execution_count": 9,
   "id": "b2658b32",
   "metadata": {},
   "outputs": [],
   "source": [
    "df_risk = pd.read_csv('산림청 국립산림과학원_대형산불위험예보목록정보_20250430.csv', encoding='euc-kr')\n",
    "df_risk = df_risk.rename(columns={\n",
    "    '예보일시': 'date',\n",
    "    '시도명': 'province',\n",
    "    '시군구명': 'city',\n",
    "    '실효습도': 'effective_humidity',\n",
    "    '풍속': 'wind_speed',\n",
    "    '등급': 'risk_grade'\n",
    "})\n",
    "df_risk['date_dt'] = pd.to_datetime(df_risk['date'], errors='coerce').dt.date\n",
    "df_risk['effective_humidity'] = pd.to_numeric(df_risk['effective_humidity'], errors='coerce')\n",
    "df_risk['wind_speed'] = pd.to_numeric(df_risk['wind_speed'], errors='coerce')\n",
    "\n",
    "# 2022~2024년 데이터만 필터링\n",
    "df_risk = df_risk[\n",
    "    (df_risk['date_dt'] >= pd.to_datetime('2022-01-01').date()) &\n",
    "    (df_risk['date_dt'] <= pd.to_datetime('2024-12-31').date())\n",
    "]"
   ]
  },
  {
   "cell_type": "code",
   "execution_count": 10,
   "id": "85318a96",
   "metadata": {},
   "outputs": [],
   "source": [
    "df_fire = pd.read_csv('sanbul.csv', encoding='cp949')\n",
    "df_fire = df_fire.rename(columns={\n",
    "    '발생일시_년': 'year',\n",
    "    '발생일시_월': 'month',\n",
    "    '발생일시_일': 'day',\n",
    "    '발생장소_시도': 'province',\n",
    "    '발생장소_시군구': 'city'\n",
    "})\n",
    "df_fire['date_dt'] = pd.to_datetime(\n",
    "    df_fire['year'].astype(str) + '-' +\n",
    "    df_fire['month'].astype(str).str.zfill(2) + '-' +\n",
    "    df_fire['day'].astype(str).str.zfill(2),\n",
    "    errors='coerce'\n",
    ").dt.date\n",
    "\n",
    "# 2022~2024년 데이터만 필터링\n",
    "df_fire = df_fire[\n",
    "    (df_fire['date_dt'] >= pd.to_datetime('2022-01-01').date()) &\n",
    "    (df_fire['date_dt'] <= pd.to_datetime('2024-12-31').date())\n",
    "]\n",
    "\n",
    "# 일별, 지역별 산불 발생 건수 및 유무 집계\n",
    "fire_group = df_fire.groupby(['date_dt', 'province', 'city']).size().reset_index(name='fire_count')\n",
    "fire_group['fire_occurred'] = (fire_group['fire_count'] > 0).astype(int)"
   ]
  },
  {
   "cell_type": "code",
   "execution_count": 11,
   "id": "378ed117",
   "metadata": {},
   "outputs": [
    {
     "name": "stdout",
     "output_type": "stream",
     "text": [
      "1차 병합(기상+위험예보) 샘플:                date province city 읍면동명  effective_humidity  wind_speed  \\\n",
      "0  2022-01-01 10:00       강원   양양  손양면                30.5         9.5   \n",
      "1  2022-01-01 11:00       강원   양양  손양면                30.1         8.3   \n",
      "2  2022-01-01 11:00       강원   양양  현북면                30.1         8.3   \n",
      "3  2022-01-01 11:00       강원   양양  현남면                30.1         7.2   \n",
      "4  2022-01-01 12:00       강원   양양  손양면                29.7         8.2   \n",
      "\n",
      "  risk_grade     date_dt  TA_AVG  HM_AVG  WS_AVG  \n",
      "0        주의보  2022-01-01    -3.7     2.1     1.5  \n",
      "1        주의보  2022-01-01    -3.7     2.1     1.5  \n",
      "2        주의보  2022-01-01    -3.7     2.1     1.5  \n",
      "3        주의보  2022-01-01    -3.7     2.1     1.5  \n",
      "4        주의보  2022-01-01    -3.7     2.1     1.5  \n",
      "타겟 변수 분포: fire_occurred\n",
      "0    13462\n",
      "1      795\n",
      "Name: count, dtype: int64\n"
     ]
    }
   ],
   "source": [
    "# 1차 병합 (날짜 기준)\n",
    "df_weather_all['date_dt'] = pd.to_datetime(df_weather_all['date_dt']).dt.date\n",
    "risk_weather = pd.merge(df_risk, df_weather_all, on='date_dt', how='inner')\n",
    "\n",
    "print('1차 병합(기상+위험예보) 샘플:', risk_weather.head())\n",
    "\n",
    "# 2차 병합 (날짜+지역 기준)\n",
    "final_df = pd.merge(\n",
    "    risk_weather,\n",
    "    fire_group,\n",
    "    on=['date_dt', 'province', 'city'],\n",
    "    how='left'\n",
    ")\n",
    "\n",
    "# 결측치 처리: 산불이 발생하지 않은 경우 0으로 채움\n",
    "final_df['fire_occurred'] = final_df['fire_occurred'].fillna(0).astype(int)\n",
    "final_df['fire_count'] = final_df['fire_count'].fillna(0).astype(int)\n",
    "\n",
    "# 피처 엔지니어링: 위험 등급 수치화\n",
    "final_df['risk_grade_num'] = final_df['risk_grade'].map({'주의보': 2, '경보': 3, '기타': 1})\n",
    "features = ['TA_AVG', 'HM_AVG', 'WS_AVG', 'effective_humidity', 'wind_speed', 'risk_grade_num']\n",
    "\n",
    "# feature 결측치 제거\n",
    "final_df = final_df.dropna(subset=features)\n",
    "\n",
    "print('타겟 변수 분포:', final_df['fire_occurred'].value_counts())"
   ]
  },
  {
   "cell_type": "code",
   "execution_count": 12,
   "id": "c898e420",
   "metadata": {},
   "outputs": [],
   "source": [
    "# SMOTE 적용 (0과 1이 모두 있을 때만 실행)\n",
    "X = final_df[features].astype(float)\n",
    "y = final_df['fire_occurred']\n",
    "\n",
    "minority_count = sum(y == 1)\n",
    "\n",
    "if minority_count < 2:\n",
    "    print(\"소수 클래스 샘플 부족으로 SMOTE 적용 불가. 원본 데이터 사용\")\n",
    "    X_resampled, y_resampled = X, y\n",
    "else:\n",
    "    # 소수 클래스 샘플 수에 맞춰 k_neighbors 조정\n",
    "    if minority_count < 6:\n",
    "        smote = SMOTE(random_state=42, k_neighbors=minority_count-1)\n",
    "    else:\n",
    "        smote = SMOTE(random_state=42)\n",
    "    X_resampled, y_resampled = smote.fit_resample(X, y)\n",
    "\n",
    "# 데이터 분할\n",
    "X_train, X_test, y_train, y_test = train_test_split(\n",
    "    X_resampled, y_resampled,\n",
    "    test_size=0.2,\n",
    "    random_state=42,\n",
    "    stratify=y_resampled\n",
    ")"
   ]
  },
  {
   "cell_type": "code",
   "execution_count": 13,
   "id": "ce909c2b",
   "metadata": {},
   "outputs": [
    {
     "name": "stdout",
     "output_type": "stream",
     "text": [
      "최적 파라미터: {'learning_rate': 0.1, 'max_depth': 7, 'scale_pos_weight': 1}\n",
      "\n",
      "임계값 조정 후 분류 리포트:\n",
      "              precision    recall  f1-score   support\n",
      "\n",
      "           0       0.99      0.87      0.93      2693\n",
      "           1       0.89      0.99      0.94      2692\n",
      "\n",
      "    accuracy                           0.93      5385\n",
      "   macro avg       0.94      0.93      0.93      5385\n",
      "weighted avg       0.94      0.93      0.93      5385\n",
      "\n",
      "\n",
      "임계값 조정 후 혼동 행렬:\n",
      "[[2350  343]\n",
      " [  23 2669]]\n"
     ]
    }
   ],
   "source": [
    "param_grid = {\n",
    "    'max_depth': [3, 5, 7],\n",
    "    'learning_rate': [0.01, 0.1],\n",
    "    'scale_pos_weight': [1, (y_resampled == 0).sum() / (y_resampled == 1).sum()]\n",
    "}\n",
    "model = XGBClassifier(random_state=42)\n",
    "grid = GridSearchCV(model, param_grid, scoring='recall', cv=5)\n",
    "grid.fit(X_train, y_train)\n",
    "print(\"최적 파라미터:\", grid.best_params_)\n",
    "\n",
    "# 최적 모델로 예측\n",
    "best_model = grid.best_estimator_\n",
    "probs = best_model.predict_proba(X_test)[:, 1]\n",
    "\n",
    "# 임계값 조정 (재현율 높이기)\n",
    "threshold = 0.3\n",
    "preds = (probs > threshold).astype(int)\n",
    "\n",
    "print(\"\\n임계값 조정 후 분류 리포트:\")\n",
    "print(classification_report(y_test, preds))\n",
    "print(\"\\n임계값 조정 후 혼동 행렬:\")\n",
    "print(confusion_matrix(y_test, preds))"
   ]
  },
  {
   "cell_type": "code",
   "execution_count": 14,
   "id": "e8238e5d",
   "metadata": {},
   "outputs": [
    {
     "name": "stdout",
     "output_type": "stream",
     "text": [
      "\n",
      "예측 결과 샘플:\n",
      "   TA_AVG  HM_AVG  WS_AVG  effective_humidity  wind_speed  risk_grade_num  \\\n",
      "0    20.1     9.1     2.0           34.815684    7.200000             2.0   \n",
      "1     4.4     2.7     4.3           38.171278   10.057233             2.0   \n",
      "2    11.0    11.1     3.6           42.342022    7.786571             2.0   \n",
      "3    -3.1     1.8     3.1           32.500000    7.885320             2.0   \n",
      "4     7.2     3.8     3.4           35.200000    8.700000             2.0   \n",
      "\n",
      "   actual_fire_occurred  predicted_fire_occurred  \n",
      "0                   NaN                      NaN  \n",
      "1                   0.0                      0.0  \n",
      "2                   NaN                      NaN  \n",
      "3                   NaN                      NaN  \n",
      "4                   0.0                      0.0  \n",
      "\n",
      "예측 결과 요약:\n",
      "predicted_fire_occurred\n",
      "1.0    3012\n",
      "0.0    2373\n",
      "Name: count, dtype: int64\n",
      "모델 저장 여부: True\n"
     ]
    }
   ],
   "source": [
    "# 예측 결과 표로 확인\n",
    "result_df = pd.concat([\n",
    "    X_test.reset_index(drop=True),\n",
    "    pd.DataFrame({\n",
    "        'actual_fire_occurred': y_test,\n",
    "        'predicted_fire_occurred': preds\n",
    "    })\n",
    "], axis=1)\n",
    "\n",
    "print(\"\\n예측 결과 샘플:\")\n",
    "print(result_df.head())\n",
    "print(\"\\n예측 결과 요약:\")\n",
    "print(result_df['predicted_fire_occurred'].value_counts())\n",
    "\n",
    "# 모델 저장 (XGBoost 네이티브 방식)\n",
    "best_model.save_model('xgb_fire_model_smote.json')\n",
    "\n",
    "# 저장 확인\n",
    "import os\n",
    "print('모델 저장 여부:', os.path.exists('xgb_fire_model_smote.json'))"
   ]
  }
 ],
 "metadata": {
  "kernelspec": {
   "display_name": "Python 3",
   "language": "python",
   "name": "python3"
  },
  "language_info": {
   "codemirror_mode": {
    "name": "ipython",
    "version": 3
   },
   "file_extension": ".py",
   "mimetype": "text/x-python",
   "name": "python",
   "nbconvert_exporter": "python",
   "pygments_lexer": "ipython3",
   "version": "3.10.8"
  }
 },
 "nbformat": 4,
 "nbformat_minor": 5
}
