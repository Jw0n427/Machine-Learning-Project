{
 "cells": [
  {
   "cell_type": "markdown",
   "id": "d6d1fade",
   "metadata": {},
   "source": [
    "# 1. 기상청 API 데이터 수집"
   ]
  },
  {
   "cell_type": "code",
   "execution_count": 3,
   "id": "1f15090c",
   "metadata": {},
   "outputs": [
    {
     "name": "stdout",
     "output_type": "stream",
     "text": [
      "기상청 데이터 수집 완료, 샘플 데이터:\n",
      "     date_dt  TA_AVG  HM_AVG  WS_AVG\n",
      "0 2023-01-01    -1.4     3.3     2.7\n",
      "1 2023-01-02    -4.2     2.0     2.5\n",
      "2 2023-01-03    -4.8     2.0     1.8\n",
      "3 2023-01-04    -2.9     2.7     1.9\n",
      "4 2023-01-05    -3.3     3.1     1.6\n",
      "총 수집된 날짜 수: 731\n"
     ]
    }
   ],
   "source": [
    "import requests\n",
    "import pandas as pd\n",
    "from io import StringIO\n",
    "from datetime import datetime, timedelta\n",
    "import xmltodict\n",
    "\n",
    "# 날짜 리스트 생성 (2023년 1월 1일 ~ 24년 12월 31일)\n",
    "start_date = datetime(2023, 1, 1)  # 2023년부터 시작\n",
    "end_date = datetime(2024, 12, 31)\n",
    "date_list = [(start_date + timedelta(days=i)).strftime('%Y%m%d') for i in range((end_date - start_date).days + 1)]\n",
    "\n",
    "weather_records = []\n",
    "\n",
    "col_names = [f'col{i}' for i in range(56)]  # 데이터 열 개수에 맞춤\n",
    "url_weather = \"https://apihub.kma.go.kr/api/typ01/url/kma_sfcdd3.php\"\n",
    "\n",
    "for date in date_list:\n",
    "    params_weather = {\n",
    "        \"tm1\": date,\n",
    "        \"tm2\": date,\n",
    "        \"stn\": \"108\",\n",
    "        \"help\": \"1\",\n",
    "        \"authKey\": \"n7wd-Im8T368HfiJvO9-5Q\"\n",
    "    }\n",
    "    try:\n",
    "        response_weather = requests.get(url_weather, params=params_weather, timeout=10)\n",
    "        response_weather.encoding = 'euc-kr'\n",
    "        lines = response_weather.text.split('\\n')\n",
    "        lines = [line for line in lines if line and not line.startswith('#')]\n",
    "        if not lines:\n",
    "            continue\n",
    "        csv_data = '\\n'.join(lines)\n",
    "        df_w = pd.read_csv(StringIO(csv_data), sep='\\s+', header=None, names=col_names, engine='python')\n",
    "        df_w = df_w.reset_index(drop=True)\n",
    "        df_w['date'] = df_w['col0'].astype(str).str[:8]\n",
    "        df_w['date_dt'] = pd.to_datetime(df_w['date'], format='%Y%m%d', errors='coerce')\n",
    "        # 주요 변수만 추출\n",
    "        df_w = df_w[['date_dt', 'col16', 'col21', 'col2']]\n",
    "        df_w.columns = ['date_dt', 'TA_AVG', 'HM_AVG', 'WS_AVG']\n",
    "        weather_records.append(df_w)\n",
    "    except Exception as e:\n",
    "        continue\n",
    "\n",
    "if weather_records:\n",
    "    df_weather_all = pd.concat(weather_records, ignore_index=True)\n",
    "else:\n",
    "    df_weather_all = pd.DataFrame()\n",
    "\n",
    "print('기상청 데이터 수집 완료, 샘플 데이터:')\n",
    "print(df_weather_all.head())\n",
    "print('총 수집된 날짜 수:', df_weather_all['date_dt'].nunique())\n"
   ]
  },
  {
   "cell_type": "markdown",
   "id": "1fc0beb0",
   "metadata": {},
   "source": [
    "# 2. 산불위험예보 목록정보 전처리"
   ]
  },
  {
   "cell_type": "code",
   "execution_count": 4,
   "id": "b2658b32",
   "metadata": {},
   "outputs": [],
   "source": [
    "import pandas as pd\n",
    "\n",
    "# 1. 기상청 데이터 준비 (이미 df_weather_all에 날짜별로 TA_AVG, HM_AVG, WS_AVG 있음)\n",
    "# df_weather_all: ['date_dt', 'TA_AVG', 'HM_AVG', 'WS_AVG']\n",
    "\n",
    "# 2. 산불위험예보 목록정보 불러오기 및 전처리\n",
    "df_risk = pd.read_csv('산림청 국립산림과학원_대형산불위험예보목록정보_20250430.csv', encoding='euc-kr')\n",
    "df_risk = df_risk.rename(columns={\n",
    "    '예보일시': 'date',\n",
    "    '시도명': 'province',\n",
    "    '시군구명': 'city',\n",
    "    '실효습도': 'effective_humidity',\n",
    "    '풍속': 'wind_speed',\n",
    "    '등급': 'risk_grade'\n",
    "})\n",
    "df_risk['date_dt'] = pd.to_datetime(df_risk['date'], errors='coerce').dt.date\n",
    "df_risk['effective_humidity'] = pd.to_numeric(df_risk['effective_humidity'], errors='coerce')\n",
    "df_risk['wind_speed'] = pd.to_numeric(df_risk['wind_speed'], errors='coerce')"
   ]
  },
  {
   "cell_type": "markdown",
   "id": "ba154316",
   "metadata": {},
   "source": [
    "# 3. 1차 병합 (날짜 기준)"
   ]
  },
  {
   "cell_type": "code",
   "execution_count": 5,
   "id": "378ed117",
   "metadata": {},
   "outputs": [
    {
     "name": "stdout",
     "output_type": "stream",
     "text": [
      "1차 병합(기상+위험예보) 샘플:                date province city 읍면동명  effective_humidity  wind_speed  \\\n",
      "0  2023-01-02 00:00       강원   양양  손양면                30.4         7.1   \n",
      "1  2023-01-02 03:00       부산  금정구  노포동                32.5         8.4   \n",
      "2  2023-01-02 03:00       전남   여수   국동                34.4         8.1   \n",
      "3  2023-01-02 03:00       전남   여수  만흥동                34.4         8.8   \n",
      "4  2023-01-02 03:00       전남   여수  봉계동                34.4         8.0   \n",
      "\n",
      "  risk_grade     date_dt  TA_AVG  HM_AVG  WS_AVG  \n",
      "0        주의보  2023-01-02    -4.2     2.0     2.5  \n",
      "1        주의보  2023-01-02    -4.2     2.0     2.5  \n",
      "2        주의보  2023-01-02    -4.2     2.0     2.5  \n",
      "3        주의보  2023-01-02    -4.2     2.0     2.5  \n",
      "4        주의보  2023-01-02    -4.2     2.0     2.5  \n"
     ]
    }
   ],
   "source": [
    "df_weather_all['date_dt'] = pd.to_datetime(df_weather_all['date_dt']).dt.date\n",
    "risk_weather = pd.merge(df_risk, df_weather_all, on='date_dt', how='inner')\n",
    "\n",
    "print('1차 병합(기상+위험예보) 샘플:', risk_weather.head())"
   ]
  },
  {
   "cell_type": "markdown",
   "id": "7a7d06b7",
   "metadata": {},
   "source": [
    "# 4. 산불상황관제시스템 통계데이터 전처리"
   ]
  },
  {
   "cell_type": "code",
   "execution_count": 6,
   "id": "96493597",
   "metadata": {},
   "outputs": [
    {
     "name": "stdout",
     "output_type": "stream",
     "text": [
      "산불 발생 통계 샘플:       date_dt province city  fire_count  fire_occurred\n",
      "0  2015-01-03       부산  해운대           1              1\n",
      "1  2015-01-04       경북   안동           1              1\n",
      "2  2015-01-04       전남   순천           1              1\n",
      "3  2015-01-05       강원   강릉           1              1\n",
      "4  2015-01-10       강원   강릉           1              1\n"
     ]
    }
   ],
   "source": [
    "# 4. 산불상황관제시스템 통계데이터 불러오기 및 전처리\n",
    "df_fire = pd.read_csv('sanbul.csv', encoding='cp949')\n",
    "df_fire = df_fire.rename(columns={\n",
    "    '발생일시_년': 'year',\n",
    "    '발생일시_월': 'month',\n",
    "    '발생일시_일': 'day',\n",
    "    '발생장소_시도': 'province',\n",
    "    '발생장소_시군구': 'city'\n",
    "})\n",
    "df_fire['date_dt'] = pd.to_datetime(\n",
    "    df_fire['year'].astype(str) + '-' +\n",
    "    df_fire['month'].astype(str).str.zfill(2) + '-' +\n",
    "    df_fire['day'].astype(str).str.zfill(2),\n",
    "    errors='coerce'\n",
    ").dt.date\n",
    "\n",
    "# 일별, 지역별 산불 발생 건수 및 유무 집계\n",
    "fire_group = df_fire.groupby(['date_dt', 'province', 'city']).size().reset_index(name='fire_count')\n",
    "fire_group['fire_occurred'] = (fire_group['fire_count'] > 0).astype(int)\n",
    "\n",
    "print('산불 발생 통계 샘플:', fire_group.head())\n"
   ]
  },
  {
   "cell_type": "markdown",
   "id": "f8617887",
   "metadata": {},
   "source": [
    "# 5. 2차 병합 (날짜+지역 기준)"
   ]
  },
  {
   "cell_type": "code",
   "execution_count": 7,
   "id": "e321fb75",
   "metadata": {},
   "outputs": [],
   "source": [
    "final_df = pd.merge(\n",
    "    risk_weather,\n",
    "    fire_group,\n",
    "    on=['date_dt', 'province', 'city'],\n",
    "    how='left'\n",
    ")"
   ]
  },
  {
   "cell_type": "markdown",
   "id": "370304ab",
   "metadata": {},
   "source": [
    "# # 결측치 처리: 산불이 발생하지 않은 경우 0으로 채움"
   ]
  },
  {
   "cell_type": "code",
   "execution_count": 8,
   "id": "69d0cc5e",
   "metadata": {},
   "outputs": [],
   "source": [
    "final_df['fire_occurred'] = final_df['fire_occurred'].fillna(0).astype(int)\n",
    "final_df['fire_count'] = final_df['fire_count'].fillna(0).astype(int)"
   ]
  },
  {
   "cell_type": "markdown",
   "id": "3811c66c",
   "metadata": {},
   "source": [
    "# feature 결측치 제거"
   ]
  },
  {
   "cell_type": "code",
   "execution_count": 9,
   "id": "3115b308",
   "metadata": {},
   "outputs": [],
   "source": [
    "features = ['TA_AVG', 'HM_AVG', 'WS_AVG', 'effective_humidity', 'wind_speed']\n",
    "final_df = final_df.dropna(subset=features)"
   ]
  },
  {
   "cell_type": "markdown",
   "id": "b9730058",
   "metadata": {},
   "source": [
    "# 6. 타겟 변수 분포 확인"
   ]
  },
  {
   "cell_type": "code",
   "execution_count": 10,
   "id": "75407641",
   "metadata": {},
   "outputs": [
    {
     "name": "stdout",
     "output_type": "stream",
     "text": [
      "fire_occurred NaN 개수: 0\n",
      "타겟 분포: fire_occurred\n",
      "0    6008\n",
      "1     240\n",
      "Name: count, dtype: int64\n"
     ]
    }
   ],
   "source": [
    "print('fire_occurred NaN 개수:', final_df['fire_occurred'].isna().sum())\n",
    "print('타겟 분포:', final_df['fire_occurred'].value_counts())"
   ]
  },
  {
   "cell_type": "markdown",
   "id": "208b31a8",
   "metadata": {},
   "source": [
    "# 7. 데이터 불균형 처리 (0과 1이 모두 있을 때만 실행)"
   ]
  },
  {
   "cell_type": "code",
   "execution_count": 11,
   "id": "3fdd9a8f",
   "metadata": {},
   "outputs": [],
   "source": [
    "from imblearn.over_sampling import SMOTE\n",
    "\n",
    "features = ['TA_AVG', 'HM_AVG', 'WS_AVG', 'effective_humidity', 'wind_speed']\n",
    "X = final_df[features].astype(float)\n",
    "y = final_df['fire_occurred']\n",
    "\n",
    "# SMOTE 적용 (기존 resample 방식 대체)\n",
    "smote = SMOTE(random_state=42)\n",
    "X_resampled, y_resampled = smote.fit_resample(X, y)"
   ]
  },
  {
   "cell_type": "code",
   "execution_count": 12,
   "id": "d32282e1",
   "metadata": {},
   "outputs": [],
   "source": [
    "features = ['TA_AVG', 'HM_AVG', 'WS_AVG', 'effective_humidity', 'wind_speed']\n",
    "X = final_df[features].astype(float)\n",
    "y = final_df['fire_occurred']"
   ]
  },
  {
   "cell_type": "code",
   "execution_count": 13,
   "id": "88c746ae",
   "metadata": {},
   "outputs": [],
   "source": [
    "smote = SMOTE(random_state=42)\n",
    "X_resampled, y_resampled = smote.fit_resample(X, y)"
   ]
  },
  {
   "cell_type": "markdown",
   "id": "f70778ce",
   "metadata": {},
   "source": [
    "# 8. 머신러닝 모델 학습"
   ]
  },
  {
   "cell_type": "code",
   "execution_count": 14,
   "id": "edeae028",
   "metadata": {},
   "outputs": [
    {
     "name": "stdout",
     "output_type": "stream",
     "text": [
      "정확도: 0.9825291181364393\n",
      "\n",
      "분류 리포트:\n",
      "              precision    recall  f1-score   support\n",
      "\n",
      "           0       0.99      0.97      0.98      1202\n",
      "           1       0.97      0.99      0.98      1202\n",
      "\n",
      "    accuracy                           0.98      2404\n",
      "   macro avg       0.98      0.98      0.98      2404\n",
      "weighted avg       0.98      0.98      0.98      2404\n",
      "\n",
      "\n",
      "혼동 행렬:\n",
      "[[1169   33]\n",
      " [   9 1193]]\n"
     ]
    }
   ],
   "source": [
    "from sklearn.model_selection import train_test_split\n",
    "from xgboost import XGBClassifier\n",
    "from sklearn.metrics import accuracy_score, classification_report, confusion_matrix\n",
    "\n",
    "# 데이터 분할\n",
    "X_train, X_test, y_train, y_test = train_test_split(\n",
    "    X_resampled, y_resampled,\n",
    "    test_size=0.2,\n",
    "    random_state=42,\n",
    "    stratify=y_resampled\n",
    ")\n",
    "\n",
    "# 모델 학습\n",
    "model = XGBClassifier(random_state=42)\n",
    "model.fit(X_train, y_train)\n",
    "\n",
    "# 예측 및 평가\n",
    "preds = model.predict(X_test)\n",
    "print(\"정확도:\", accuracy_score(y_test, preds))\n",
    "print(\"\\n분류 리포트:\")\n",
    "print(classification_report(y_test, preds))\n",
    "print(\"\\n혼동 행렬:\")\n",
    "print(confusion_matrix(y_test, preds))"
   ]
  },
  {
   "cell_type": "code",
   "execution_count": 15,
   "id": "00e5707a",
   "metadata": {},
   "outputs": [
    {
     "name": "stdout",
     "output_type": "stream",
     "text": [
      "       TA_AVG  HM_AVG  WS_AVG  effective_humidity  wind_speed  \\\n",
      "11264    11.0    11.1     3.6           25.883018   12.369823   \n",
      "3924      8.8     6.0    -9.0           41.200000    8.900000   \n",
      "2587     11.0    11.1     3.6           39.600000    8.200000   \n",
      "11593    12.9     4.2     1.8           38.400000    8.227590   \n",
      "236      -6.6     1.0     4.6           30.800000    8.400000   \n",
      "\n",
      "       actual_fire_occurred  predicted_fire_occurred  \n",
      "11264                     1                        1  \n",
      "3924                      0                        0  \n",
      "2587                      1                        1  \n",
      "11593                     1                        1  \n",
      "236                       0                        0  \n"
     ]
    }
   ],
   "source": [
    "result_df = X_test.copy()\n",
    "result_df['actual_fire_occurred'] = y_test\n",
    "result_df['predicted_fire_occurred'] = preds\n",
    "print(result_df.head())"
   ]
  },
  {
   "cell_type": "code",
   "execution_count": 16,
   "id": "b21e3213",
   "metadata": {},
   "outputs": [
    {
     "name": "stdout",
     "output_type": "stream",
     "text": [
      "모델이 'xgb_fire_model_smote.pkl' 파일로 저장되었습니다.\n"
     ]
    }
   ],
   "source": [
    "import joblib\n",
    "\n",
    "# 이미 학습된 모델이 model 변수에 저장되어 있다고 가정\n",
    "# 원하는 파일명으로 모델 저장 (예: 'xgb_fire_model_smote.pkl')\n",
    "joblib.dump(model, 'xgb_fire_model_smote.pkl')\n",
    "\n",
    "print(\"모델이 'xgb_fire_model_smote.pkl' 파일로 저장되었습니다.\")\n"
   ]
  }
 ],
 "metadata": {
  "kernelspec": {
   "display_name": "Python 3",
   "language": "python",
   "name": "python3"
  },
  "language_info": {
   "codemirror_mode": {
    "name": "ipython",
    "version": 3
   },
   "file_extension": ".py",
   "mimetype": "text/x-python",
   "name": "python",
   "nbconvert_exporter": "python",
   "pygments_lexer": "ipython3",
   "version": "3.10.8"
  }
 },
 "nbformat": 4,
 "nbformat_minor": 5
}
