{
 "cells": [
  {
   "cell_type": "code",
   "execution_count": 12,
   "id": "dcb7fe07",
   "metadata": {},
   "outputs": [],
   "source": [
    "import requests\n",
    "import pandas as pd\n",
    "from io import StringIO\n",
    "from datetime import datetime, timedelta\n",
    "import joblib\n",
    "from sklearn.metrics import accuracy_score, classification_report, confusion_matrix"
   ]
  },
  {
   "cell_type": "code",
   "execution_count": 13,
   "id": "8b0521a1",
   "metadata": {},
   "outputs": [
    {
     "name": "stdout",
     "output_type": "stream",
     "text": [
      "기상청 데이터 수집 완료, 샘플 데이터:\n",
      "     date_dt  TA_AVG  HM_AVG  WS_AVG\n",
      "0 2023-01-01    -1.4     3.3     2.7\n",
      "1 2023-01-02    -4.2     2.0     2.5\n",
      "2 2023-01-03    -4.8     2.0     1.8\n",
      "3 2023-01-04    -2.9     2.7     1.9\n",
      "4 2023-01-05    -3.3     3.1     1.6\n",
      "총 수집된 날짜 수: 365\n"
     ]
    }
   ],
   "source": [
    "# 1. 기상청 API 데이터 수집 (2023년)\n",
    "start_date = datetime(2023, 1, 1)\n",
    "end_date = datetime(2023, 12, 31)\n",
    "date_list = [(start_date + timedelta(days=i)).strftime('%Y%m%d') for i in range((end_date - start_date).days + 1)]\n",
    "\n",
    "weather_records = []\n",
    "col_names = [f'col{i}' for i in range(56)]\n",
    "url_weather = \"https://apihub.kma.go.kr/api/typ01/url/kma_sfcdd3.php\"\n",
    "\n",
    "for date in date_list:\n",
    "    params_weather = {\n",
    "        \"tm1\": date,\n",
    "        \"tm2\": date,\n",
    "        \"stn\": \"108\",\n",
    "        \"help\": \"1\",\n",
    "        \"authKey\": \"n7wd-Im8T368HfiJvO9-5Q\"  # 실제 인증키로 교체 필요\n",
    "    }\n",
    "    try:\n",
    "        response_weather = requests.get(url_weather, params=params_weather, timeout=10)\n",
    "        response_weather.encoding = 'euc-kr'\n",
    "        lines = response_weather.text.split('\\n')\n",
    "        lines = [line for line in lines if line and not line.startswith('#')]\n",
    "        if not lines:\n",
    "            continue\n",
    "        csv_data = '\\n'.join(lines)\n",
    "        df_w = pd.read_csv(StringIO(csv_data), sep='\\s+', header=None, names=col_names, engine='python')\n",
    "        df_w = df_w.reset_index(drop=True)\n",
    "        df_w['date'] = df_w['col0'].astype(str).str[:8]\n",
    "        df_w['date_dt'] = pd.to_datetime(df_w['date'], format='%Y%m%d', errors='coerce')\n",
    "        df_w = df_w[['date_dt', 'col16', 'col21', 'col2']]\n",
    "        df_w.columns = ['date_dt', 'TA_AVG', 'HM_AVG', 'WS_AVG']\n",
    "        weather_records.append(df_w)\n",
    "    except Exception as e:\n",
    "        continue\n",
    "\n",
    "if weather_records:\n",
    "    df_weather_all = pd.concat(weather_records, ignore_index=True)\n",
    "else:\n",
    "    df_weather_all = pd.DataFrame()\n",
    "\n",
    "print('기상청 데이터 수집 완료, 샘플 데이터:')\n",
    "print(df_weather_all.head())\n",
    "print('총 수집된 날짜 수:', df_weather_all['date_dt'].nunique())"
   ]
  },
  {
   "cell_type": "code",
   "execution_count": 14,
   "id": "ee25c82b",
   "metadata": {},
   "outputs": [],
   "source": [
    "# 2. 산불위험예보 목록정보 불러오기 및 전처리\n",
    "df_risk = pd.read_csv('산림청 국립산림과학원_대형산불위험예보목록정보_20250430.csv', encoding='euc-kr')\n",
    "df_risk = df_risk.rename(columns={\n",
    "    '예보일시': 'date',\n",
    "    '시도명': 'province',\n",
    "    '시군구명': 'city',\n",
    "    '실효습도': 'effective_humidity',\n",
    "    '풍속': 'wind_speed',\n",
    "    '등급': 'risk_grade'\n",
    "})\n",
    "df_risk['date_dt'] = pd.to_datetime(df_risk['date'], errors='coerce').dt.date\n",
    "df_risk['effective_humidity'] = pd.to_numeric(df_risk['effective_humidity'], errors='coerce')\n",
    "df_risk['wind_speed'] = pd.to_numeric(df_risk['wind_speed'], errors='coerce')\n",
    "\n",
    "if not df_weather_all.empty:\n",
    "    df_weather_all['date_dt'] = pd.to_datetime(df_weather_all['date_dt']).dt.date\n",
    "    risk_weather = pd.merge(df_risk, df_weather_all, on='date_dt', how='inner')\n",
    "else:\n",
    "    risk_weather = pd.DataFrame()\n"
   ]
  },
  {
   "cell_type": "code",
   "execution_count": 15,
   "id": "5ff938e9",
   "metadata": {},
   "outputs": [],
   "source": [
    "# 3. 산불상황관제시스템 통계데이터 불러오기 및 전처리\n",
    "df_fire = pd.read_csv('sanbul.csv', encoding='cp949')\n",
    "df_fire = df_fire.rename(columns={\n",
    "    '발생일시_년': 'year',\n",
    "    '발생일시_월': 'month',\n",
    "    '발생일시_일': 'day',\n",
    "    '발생장소_시도': 'province',\n",
    "    '발생장소_시군구': 'city'\n",
    "})\n",
    "df_fire['date_dt'] = pd.to_datetime(\n",
    "    df_fire['year'].astype(str) + '-' +\n",
    "    df_fire['month'].astype(str).str.zfill(2) + '-' +\n",
    "    df_fire['day'].astype(str).str.zfill(2),\n",
    "    errors='coerce'\n",
    ").dt.date\n",
    "\n",
    "fire_group = df_fire.groupby(['date_dt', 'province', 'city']).size().reset_index(name='fire_count')\n",
    "fire_group['fire_occurred'] = (fire_group['fire_count'] > 0).astype(int)\n"
   ]
  },
  {
   "cell_type": "code",
   "execution_count": 16,
   "id": "002e6cfd",
   "metadata": {},
   "outputs": [
    {
     "name": "stdout",
     "output_type": "stream",
     "text": [
      "2023년 데이터 전처리 완료, 샘플 데이터:\n",
      "               date province city 읍면동명  effective_humidity  wind_speed  \\\n",
      "0  2023-01-02 00:00       강원   양양  손양면                30.4         7.1   \n",
      "1  2023-01-02 03:00       부산  금정구  노포동                32.5         8.4   \n",
      "2  2023-01-02 03:00       전남   여수   국동                34.4         8.1   \n",
      "3  2023-01-02 03:00       전남   여수  만흥동                34.4         8.8   \n",
      "4  2023-01-02 03:00       전남   여수  봉계동                34.4         8.0   \n",
      "\n",
      "  risk_grade     date_dt  TA_AVG  HM_AVG  WS_AVG  fire_count  fire_occurred  \n",
      "0        주의보  2023-01-02    -4.2     2.0     2.5           0              0  \n",
      "1        주의보  2023-01-02    -4.2     2.0     2.5           0              0  \n",
      "2        주의보  2023-01-02    -4.2     2.0     2.5           0              0  \n",
      "3        주의보  2023-01-02    -4.2     2.0     2.5           0              0  \n",
      "4        주의보  2023-01-02    -4.2     2.0     2.5           0              0  \n",
      "총 데이터 수: 3813\n"
     ]
    }
   ],
   "source": [
    "# 4. 데이터 병합 및 결측치 처리\n",
    "final_df_2023 = pd.merge(\n",
    "    risk_weather,\n",
    "    fire_group,\n",
    "    on=['date_dt', 'province', 'city'],\n",
    "    how='left'\n",
    ")\n",
    "final_df_2023['fire_occurred'] = final_df_2023['fire_occurred'].fillna(0).astype(int)\n",
    "final_df_2023['fire_count'] = final_df_2023['fire_count'].fillna(0).astype(int)\n",
    "\n",
    "features = ['TA_AVG', 'HM_AVG', 'WS_AVG', 'effective_humidity', 'wind_speed']\n",
    "final_df_2023 = final_df_2023.dropna(subset=features)\n",
    "\n",
    "print('2023년 데이터 전처리 완료, 샘플 데이터:')\n",
    "print(final_df_2023.head())\n",
    "print('총 데이터 수:', len(final_df_2023))"
   ]
  },
  {
   "cell_type": "code",
   "execution_count": 17,
   "id": "0d024847",
   "metadata": {},
   "outputs": [
    {
     "name": "stdout",
     "output_type": "stream",
     "text": [
      "2023년 데이터 정확도: 0.9737739312877\n",
      "              precision    recall  f1-score   support\n",
      "\n",
      "           0       1.00      0.98      0.99      3608\n",
      "           1       0.69      0.95      0.80       205\n",
      "\n",
      "    accuracy                           0.97      3813\n",
      "   macro avg       0.84      0.96      0.89      3813\n",
      "weighted avg       0.98      0.97      0.98      3813\n",
      "\n",
      "[[3519   89]\n",
      " [  11  194]]\n"
     ]
    }
   ],
   "source": [
    "# 5. 저장된 모델 불러오기 및 성능 평가\n",
    "X_2023 = final_df_2023[features].astype(float)\n",
    "y_2023 = final_df_2023['fire_occurred']\n",
    "\n",
    "model = joblib.load('xgb_fire_model_smote.pkl')\n",
    "\n",
    "preds_2023 = model.predict(X_2023)\n",
    "\n",
    "print(\"2023년 데이터 정확도:\", accuracy_score(y_2023, preds_2023))\n",
    "print(classification_report(y_2023, preds_2023))\n",
    "print(confusion_matrix(y_2023, preds_2023))"
   ]
  },
  {
   "cell_type": "code",
   "execution_count": 18,
   "id": "37eacda5",
   "metadata": {},
   "outputs": [
    {
     "name": "stdout",
     "output_type": "stream",
     "text": [
      "   TA_AVG  HM_AVG  WS_AVG  effective_humidity  wind_speed  \\\n",
      "0    -4.2     2.0     2.5                30.4         7.1   \n",
      "1    -4.2     2.0     2.5                32.5         8.4   \n",
      "2    -4.2     2.0     2.5                34.4         8.1   \n",
      "3    -4.2     2.0     2.5                34.4         8.8   \n",
      "4    -4.2     2.0     2.5                34.4         8.0   \n",
      "\n",
      "   actual_fire_occurred  predicted_fire_occurred  \n",
      "0                     0                        0  \n",
      "1                     0                        0  \n",
      "2                     0                        0  \n",
      "3                     0                        0  \n",
      "4                     0                        0  \n"
     ]
    }
   ],
   "source": [
    "# 6. 예측 결과 표로 확인\n",
    "result_df_2023 = X_2023.copy()\n",
    "result_df_2023['actual_fire_occurred'] = y_2023\n",
    "result_df_2023['predicted_fire_occurred'] = preds_2023\n",
    "print(result_df_2023.head())"
   ]
  }
 ],
 "metadata": {
  "kernelspec": {
   "display_name": "Python 3",
   "language": "python",
   "name": "python3"
  },
  "language_info": {
   "codemirror_mode": {
    "name": "ipython",
    "version": 3
   },
   "file_extension": ".py",
   "mimetype": "text/x-python",
   "name": "python",
   "nbconvert_exporter": "python",
   "pygments_lexer": "ipython3",
   "version": "3.10.8"
  }
 },
 "nbformat": 4,
 "nbformat_minor": 5
}
