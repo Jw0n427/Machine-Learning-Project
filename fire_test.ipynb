{
 "cells": [
  {
   "cell_type": "code",
   "execution_count": null,
   "id": "e91ee6e3",
   "metadata": {},
   "outputs": [],
   "source": [
    "import pandas as pd\n",
    "import joblib\n",
    "from sklearn.metrics import accuracy_score, classification_report, confusion_matrix\n",
    "\n",
    "# 1. (사전 작업) 2020, 2021, 2023년 데이터 전처리 완료 데이터프레임 준비\n",
    "# final_df_2020, final_df_2021, final_df_2023는 각각 아래와 같은 전처리 과정을 거쳐야 함\n",
    "# (각 연도별 기상/위험/산불 데이터 병합 및 결측치 처리, features 추출 등)\n",
    "# features = ['TA_AVG', 'HM_AVG', 'WS_AVG', 'effective_humidity', 'wind_speed']\n",
    "\n",
    "# 2. 세 연도 데이터 합치기\n",
    "final_df_all = pd.concat([final_df_2020, final_df_2021, final_df_2023], ignore_index=True)\n",
    "\n",
    "# 3. 특성과 타겟 추출\n",
    "features = ['TA_AVG', 'HM_AVG', 'WS_AVG', 'effective_humidity', 'wind_speed']\n",
    "X_all = final_df_all[features].astype(float)\n",
    "y_all = final_df_all['fire_occurred']\n",
    "\n",
    "# 4. 저장된 SMOTE 모델 불러오기\n",
    "model = joblib.load('xgb_fire_model_smote.pkl')\n",
    "\n",
    "# 5. 예측 및 평가\n",
    "preds_all = model.predict(X_all)\n",
    "\n",
    "print(\"전체(2020+2021+2023년) 데이터 정확도:\", accuracy_score(y_all, preds_all))\n",
    "print(\"분류 리포트:\")\n",
    "print(classification_report(y_all, preds_all))\n",
    "print(\"혼동 행렬:\")\n",
    "print(confusion_matrix(y_all, preds_all))\n",
    "\n",
    "# 6. 예측 결과 표로 확인 (샘플)\n",
    "result_df_all = X_all.copy()\n",
    "result_df_all['actual_fire_occurred'] = y_all\n",
    "result_df_all['predicted_fire_occurred'] = preds_all\n",
    "print(result_df_all.head())\n"
   ]
  }
 ],
 "metadata": {
  "language_info": {
   "name": "python"
  }
 },
 "nbformat": 4,
 "nbformat_minor": 5
}
