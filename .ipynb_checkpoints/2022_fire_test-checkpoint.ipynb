{
 "cells": [
  {
   "cell_type": "code",
   "execution_count": 28,
   "id": "6143d90b",
   "metadata": {},
   "outputs": [],
   "source": [
    "import requests\n",
    "import pandas as pd\n",
    "from io import StringIO\n",
    "from datetime import datetime, timedelta\n",
    "import joblib\n",
    "from sklearn.metrics import accuracy_score, classification_report, confusion_matrix"
   ]
  },
  {
   "cell_type": "code",
   "execution_count": 29,
   "id": "eeb1e17a",
   "metadata": {},
   "outputs": [
    {
     "name": "stdout",
     "output_type": "stream",
     "text": [
      "기상청 데이터 수집 완료, 샘플 데이터:\n",
      "     date_dt  TA_AVG  HM_AVG  WS_AVG\n",
      "0 2022-01-01    -3.7     2.1     1.5\n",
      "1 2022-01-02    -0.9     3.3     2.3\n",
      "2 2022-01-03    -2.3     3.2     1.8\n",
      "3 2022-01-04    -1.8     2.6     2.4\n",
      "4 2022-01-05    -2.8     2.4     1.7\n",
      "총 수집된 날짜 수: 365\n"
     ]
    }
   ],
   "source": [
    "# 1. 기상청 API 데이터 수집 (2022년)\n",
    "start_date = datetime(2022, 1, 1)\n",
    "end_date = datetime(2022, 12, 31)\n",
    "date_list = [(start_date + timedelta(days=i)).strftime('%Y%m%d') for i in range((end_date - start_date).days + 1)]\n",
    "\n",
    "weather_records = []\n",
    "col_names = [f'col{i}' for i in range(56)]\n",
    "url_weather = \"https://apihub.kma.go.kr/api/typ01/url/kma_sfcdd3.php\"\n",
    "\n",
    "for date in date_list:\n",
    "    params_weather = {\n",
    "        \"tm1\": date,\n",
    "        \"tm2\": date,\n",
    "        \"stn\": \"108\",\n",
    "        \"help\": \"1\",\n",
    "        \"authKey\": \"n7wd-Im8T368HfiJvO9-5Q\"  # 실제 인증키로 교체 필요\n",
    "    }\n",
    "    try:\n",
    "        response_weather = requests.get(url_weather, params=params_weather, timeout=10)\n",
    "        response_weather.encoding = 'euc-kr'\n",
    "        lines = response_weather.text.split('\\n')\n",
    "        lines = [line for line in lines if line and not line.startswith('#')]\n",
    "        if not lines:\n",
    "            continue\n",
    "        csv_data = '\\n'.join(lines)\n",
    "        df_w = pd.read_csv(StringIO(csv_data), sep='\\s+', header=None, names=col_names, engine='python')\n",
    "        df_w = df_w.reset_index(drop=True)\n",
    "        df_w['date'] = df_w['col0'].astype(str).str[:8]\n",
    "        df_w['date_dt'] = pd.to_datetime(df_w['date'], format='%Y%m%d', errors='coerce')\n",
    "        df_w = df_w[['date_dt', 'col16', 'col21', 'col2']]\n",
    "        df_w.columns = ['date_dt', 'TA_AVG', 'HM_AVG', 'WS_AVG']\n",
    "        weather_records.append(df_w)\n",
    "    except Exception as e:\n",
    "        continue\n",
    "\n",
    "if weather_records:\n",
    "    df_weather_all = pd.concat(weather_records, ignore_index=True)\n",
    "else:\n",
    "    df_weather_all = pd.DataFrame()\n",
    "\n",
    "print('기상청 데이터 수집 완료, 샘플 데이터:')\n",
    "print(df_weather_all.head())\n",
    "print('총 수집된 날짜 수:', df_weather_all['date_dt'].nunique())"
   ]
  },
  {
   "cell_type": "code",
   "execution_count": 30,
   "id": "6b6317e5",
   "metadata": {},
   "outputs": [],
   "source": [
    "# 2. 산불위험예보 목록정보 불러오기 및 전처리\n",
    "df_risk = pd.read_csv('산림청 국립산림과학원_대형산불위험예보목록정보_20250430.csv', encoding='euc-kr')\n",
    "df_risk = df_risk.rename(columns={\n",
    "    '예보일시': 'date',\n",
    "    '시도명': 'province',\n",
    "    '시군구명': 'city',\n",
    "    '실효습도': 'effective_humidity',\n",
    "    '풍속': 'wind_speed',\n",
    "    '등급': 'risk_grade'\n",
    "})\n",
    "df_risk['date_dt'] = pd.to_datetime(df_risk['date'], errors='coerce').dt.date\n",
    "df_risk['effective_humidity'] = pd.to_numeric(df_risk['effective_humidity'], errors='coerce')\n",
    "df_risk['wind_speed'] = pd.to_numeric(df_risk['wind_speed'], errors='coerce')\n",
    "\n",
    "if not df_weather_all.empty:\n",
    "    df_weather_all['date_dt'] = pd.to_datetime(df_weather_all['date_dt']).dt.date\n",
    "    risk_weather = pd.merge(df_risk, df_weather_all, on='date_dt', how='inner')\n",
    "else:\n",
    "    risk_weather = pd.DataFrame()\n"
   ]
  },
  {
   "cell_type": "code",
   "execution_count": 31,
   "id": "766437f2",
   "metadata": {},
   "outputs": [],
   "source": [
    "# 3. 산불상황관제시스템 통계데이터 불러오기 및 전처리\n",
    "df_fire = pd.read_csv('sanbul.csv', encoding='cp949')\n",
    "df_fire = df_fire.rename(columns={\n",
    "    '발생일시_년': 'year',\n",
    "    '발생일시_월': 'month',\n",
    "    '발생일시_일': 'day',\n",
    "    '발생장소_시도': 'province',\n",
    "    '발생장소_시군구': 'city'\n",
    "})\n",
    "df_fire['date_dt'] = pd.to_datetime(\n",
    "    df_fire['year'].astype(str) + '-' +\n",
    "    df_fire['month'].astype(str).str.zfill(2) + '-' +\n",
    "    df_fire['day'].astype(str).str.zfill(2),\n",
    "    errors='coerce'\n",
    ").dt.date\n",
    "\n",
    "fire_group = df_fire.groupby(['date_dt', 'province', 'city']).size().reset_index(name='fire_count')\n",
    "fire_group['fire_occurred'] = (fire_group['fire_count'] > 0).astype(int)\n"
   ]
  },
  {
   "cell_type": "code",
   "execution_count": 32,
   "id": "ffd4c36b",
   "metadata": {},
   "outputs": [
    {
     "name": "stdout",
     "output_type": "stream",
     "text": [
      "2022년 데이터 전처리 완료, 샘플 데이터:\n",
      "               date province city 읍면동명  effective_humidity  wind_speed  \\\n",
      "0  2022-01-01 10:00       강원   양양  손양면                30.5         9.5   \n",
      "1  2022-01-01 11:00       강원   양양  손양면                30.1         8.3   \n",
      "2  2022-01-01 11:00       강원   양양  현북면                30.1         8.3   \n",
      "3  2022-01-01 11:00       강원   양양  현남면                30.1         7.2   \n",
      "4  2022-01-01 12:00       강원   양양  손양면                29.7         8.2   \n",
      "\n",
      "  risk_grade     date_dt  TA_AVG  HM_AVG  WS_AVG  fire_count  fire_occurred  \n",
      "0        주의보  2022-01-01    -3.7     2.1     1.5           0              0  \n",
      "1        주의보  2022-01-01    -3.7     2.1     1.5           0              0  \n",
      "2        주의보  2022-01-01    -3.7     2.1     1.5           0              0  \n",
      "3        주의보  2022-01-01    -3.7     2.1     1.5           0              0  \n",
      "4        주의보  2022-01-01    -3.7     2.1     1.5           0              0  \n",
      "총 데이터 수: 8051\n"
     ]
    }
   ],
   "source": [
    "# 4. 데이터 병합 및 결측치 처리\n",
    "final_df_2022 = pd.merge(\n",
    "    risk_weather,\n",
    "    fire_group,\n",
    "    on=['date_dt', 'province', 'city'],\n",
    "    how='left'\n",
    ")\n",
    "final_df_2022['fire_occurred'] = final_df_2022['fire_occurred'].fillna(0).astype(int)\n",
    "final_df_2022['fire_count'] = final_df_2022['fire_count'].fillna(0).astype(int)\n",
    "\n",
    "features = ['TA_AVG', 'HM_AVG', 'WS_AVG', 'effective_humidity', 'wind_speed']\n",
    "final_df_2022 = final_df_2022.dropna(subset=features)\n",
    "\n",
    "print('2022년 데이터 전처리 완료, 샘플 데이터:')\n",
    "print(final_df_2022.head())\n",
    "print('총 데이터 수:', len(final_df_2022))"
   ]
  },
  {
   "cell_type": "code",
   "execution_count": 33,
   "id": "9e994f1b",
   "metadata": {},
   "outputs": [
    {
     "name": "stdout",
     "output_type": "stream",
     "text": [
      "2022년 데이터 정확도: 0.927710843373494\n",
      "              precision    recall  f1-score   support\n",
      "\n",
      "           0       0.93      1.00      0.96      7496\n",
      "           1       0.03      0.00      0.00       555\n",
      "\n",
      "    accuracy                           0.93      8051\n",
      "   macro avg       0.48      0.50      0.48      8051\n",
      "weighted avg       0.87      0.93      0.90      8051\n",
      "\n",
      "[[7468   28]\n",
      " [ 554    1]]\n"
     ]
    }
   ],
   "source": [
    "# 5. 저장된 모델 불러오기 및 성능 평가\n",
    "X_2022 = final_df_2022[features].astype(float)\n",
    "y_2022 = final_df_2022['fire_occurred']\n",
    "\n",
    "model = joblib.load('xgb_fire_model_smote.pkl')\n",
    "\n",
    "preds_2022 = model.predict(X_2022)\n",
    "\n",
    "print(\"2022년 데이터 정확도:\", accuracy_score(y_2022, preds_2022))\n",
    "print(classification_report(y_2022, preds_2022))\n",
    "print(confusion_matrix(y_2022, preds_2022))"
   ]
  },
  {
   "cell_type": "code",
   "execution_count": 34,
   "id": "df0ff0df",
   "metadata": {},
   "outputs": [
    {
     "name": "stdout",
     "output_type": "stream",
     "text": [
      "   TA_AVG  HM_AVG  WS_AVG  effective_humidity  wind_speed  \\\n",
      "0    -3.7     2.1     1.5                30.5         9.5   \n",
      "1    -3.7     2.1     1.5                30.1         8.3   \n",
      "2    -3.7     2.1     1.5                30.1         8.3   \n",
      "3    -3.7     2.1     1.5                30.1         7.2   \n",
      "4    -3.7     2.1     1.5                29.7         8.2   \n",
      "\n",
      "   actual_fire_occurred  predicted_fire_occurred  \n",
      "0                     0                        0  \n",
      "1                     0                        0  \n",
      "2                     0                        0  \n",
      "3                     0                        0  \n",
      "4                     0                        0  \n"
     ]
    }
   ],
   "source": [
    "# 6. 예측 결과 표로 확인\n",
    "result_df_2022 = X_2022.copy()\n",
    "result_df_2022['actual_fire_occurred'] = y_2022\n",
    "result_df_2022['predicted_fire_occurred'] = preds_2022\n",
    "print(result_df_2022.head())"
   ]
  }
 ],
 "metadata": {
  "kernelspec": {
   "display_name": "Python 3",
   "language": "python",
   "name": "python3"
  },
  "language_info": {
   "codemirror_mode": {
    "name": "ipython",
    "version": 3
   },
   "file_extension": ".py",
   "mimetype": "text/x-python",
   "name": "python",
   "nbconvert_exporter": "python",
   "pygments_lexer": "ipython3",
   "version": "3.10.8"
  }
 },
 "nbformat": 4,
 "nbformat_minor": 5
}
