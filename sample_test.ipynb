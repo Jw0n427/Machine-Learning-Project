{
 "cells": [
  {
   "cell_type": "code",
   "execution_count": 3,
   "id": "a96ade6a",
   "metadata": {},
   "outputs": [
    {
     "name": "stdout",
     "output_type": "stream",
     "text": [
      "정확도: 0.886\n",
      "\n",
      "분류 리포트:\n",
      "              precision    recall  f1-score   support\n",
      "\n",
      "           0       0.89      0.99      0.94       892\n",
      "           1       0.12      0.01      0.02       108\n",
      "\n",
      "    accuracy                           0.89      1000\n",
      "   macro avg       0.51      0.50      0.48      1000\n",
      "weighted avg       0.81      0.89      0.84      1000\n",
      "\n",
      "\n",
      "혼동 행렬:\n",
      "[[885   7]\n",
      " [107   1]]\n",
      "\n",
      "예측 결과 요약:\n",
      "predicted_fire_occurred\n",
      "0    992\n",
      "1      8\n",
      "Name: count, dtype: int64\n"
     ]
    }
   ],
   "source": [
    "import numpy as np\n",
    "import pandas as pd\n",
    "from xgboost import XGBClassifier\n",
    "from sklearn.metrics import accuracy_score, classification_report, confusion_matrix\n",
    "\n",
    "# 가상의 데이터 1000개 생성 (기상 및 산불 위험 변수)\n",
    "np.random.seed(42)\n",
    "n_samples = 1000\n",
    "\n",
    "# 가상의 기상 및 산불 위험 변수 생성 (실제 학습 데이터의 분포와 유사하게)\n",
    "TA_AVG = np.random.uniform(-10, 30, n_samples)         # 평균 기온(°C)\n",
    "HM_AVG = np.random.uniform(10, 90, n_samples)          # 평균 습도(%)\n",
    "WS_AVG = np.random.uniform(0.5, 15, n_samples)         # 평균 풍속(m/s)\n",
    "effective_humidity = np.random.uniform(20, 80, n_samples)  # 실효습도(%)\n",
    "wind_speed = np.random.uniform(1, 15, n_samples)       # 풍속(m/s) (위험예보 데이터 기준)\n",
    "\n",
    "# 실제 산불 발생 여부(타겟)는 모델이 예측할 것이므로, 임의로 산불 발생(1) 비율을 고려해 생성\n",
    "# 예시: 산불 발생(1) 10% 정도로 설정 (실제 평가와 유사하게)\n",
    "fire_occurred = np.random.choice([0, 1], size=n_samples, p=[0.9, 0.1])\n",
    "\n",
    "df_virtual = pd.DataFrame({\n",
    "    'TA_AVG': TA_AVG,\n",
    "    'HM_AVG': HM_AVG,\n",
    "    'WS_AVG': WS_AVG,\n",
    "    'effective_humidity': effective_humidity,\n",
    "    'wind_speed': wind_speed,\n",
    "    'fire_occurred': fire_occurred\n",
    "})\n",
    "\n",
    "# 모델 불러오기 (XGBoost 네이티브 방식)\n",
    "model = XGBClassifier()\n",
    "model.load_model('xgb_fire_model_smote.json')  # 모델 파일 경로 확인[1]\n",
    "\n",
    "features = ['TA_AVG', 'HM_AVG', 'WS_AVG', 'effective_humidity', 'wind_speed']\n",
    "X_virtual = df_virtual[features].astype(float)\n",
    "y_virtual = df_virtual['fire_occurred']\n",
    "\n",
    "# 예측\n",
    "preds_virtual = model.predict(X_virtual)\n",
    "\n",
    "# 모델 평가\n",
    "print(\"정확도:\", accuracy_score(y_virtual, preds_virtual))\n",
    "print(\"\\n분류 리포트:\")\n",
    "print(classification_report(y_virtual, preds_virtual))\n",
    "print(\"\\n혼동 행렬:\")\n",
    "print(confusion_matrix(y_virtual, preds_virtual))\n",
    "\n",
    "# 예측 결과 요약\n",
    "result_df = pd.DataFrame({\n",
    "    'actual_fire_occurred': y_virtual,\n",
    "    'predicted_fire_occurred': preds_virtual\n",
    "})\n",
    "print(\"\\n예측 결과 요약:\")\n",
    "print(result_df['predicted_fire_occurred'].value_counts())\n"
   ]
  }
 ],
 "metadata": {
  "kernelspec": {
   "display_name": "base",
   "language": "python",
   "name": "python3"
  },
  "language_info": {
   "codemirror_mode": {
    "name": "ipython",
    "version": 3
   },
   "file_extension": ".py",
   "mimetype": "text/x-python",
   "name": "python",
   "nbconvert_exporter": "python",
   "pygments_lexer": "ipython3",
   "version": "3.12.7"
  }
 },
 "nbformat": 4,
 "nbformat_minor": 5
}
